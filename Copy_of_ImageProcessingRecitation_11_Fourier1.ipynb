{
  "nbformat": 4,
  "nbformat_minor": 0,
  "metadata": {
    "colab": {
      "provenance": [],
      "toc_visible": true,
      "mount_file_id": "1AuYFROC4a7idg0rv37I67FA2GmxvsvbW",
      "authorship_tag": "ABX9TyNvhB+PRpL6S6jcHyba+Hvz",
      "include_colab_link": true
    },
    "kernelspec": {
      "name": "python3",
      "display_name": "Python 3"
    },
    "language_info": {
      "name": "python"
    }
  },
  "cells": [
    {
      "cell_type": "markdown",
      "metadata": {
        "id": "view-in-github",
        "colab_type": "text"
      },
      "source": [
        "<a href=\"https://colab.research.google.com/github/dnevo/ImageProcessing/blob/main/Copy_of_ImageProcessingRecitation_11_Fourier1.ipynb\" target=\"_parent\"><img src=\"https://colab.research.google.com/assets/colab-badge.svg\" alt=\"Open In Colab\"/></a>"
      ]
    },
    {
      "cell_type": "code",
      "source": [
        "from ipywidgets import interactive\n",
        "import matplotlib.pyplot as plt\n",
        "import numpy as np\n",
        "π = np.pi"
      ],
      "metadata": {
        "id": "V8RNCGVRGZXw"
      },
      "execution_count": null,
      "outputs": []
    },
    {
      "cell_type": "code",
      "source": [
        "def plot_axis(splot, x, xlabel, y, ylabel, xlim=False, ylim=False):\n",
        "    splot.plot(x, y)\n",
        "    if splot == plt:\n",
        "        splot.xlabel(xlabel)\n",
        "        splot.ylabel(ylabel)\n",
        "        if xlim:\n",
        "            plt.xlim(xlim)\n",
        "        if ylim:\n",
        "            plt.ylim(ylim)\n",
        "    else:\n",
        "        splot.set_xlabel(xlabel)\n",
        "        splot.set_ylabel(ylabel)\n",
        "        if xlim:\n",
        "            splot.set_xlim(xlim)\n",
        "        if ylim:\n",
        "            splot.set_ylim(ylim)\n",
        "    splot.axhline(y=0, color='k')\n",
        "    splot.axvline(x=0, color='k')\n",
        "    splot.grid()"
      ],
      "metadata": {
        "id": "49uAITifRC1L"
      },
      "execution_count": null,
      "outputs": []
    }
  ]
}