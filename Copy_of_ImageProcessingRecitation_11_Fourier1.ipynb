{
  "nbformat": 4,
  "nbformat_minor": 0,
  "metadata": {
    "colab": {
      "provenance": [],
      "toc_visible": true,
      "mount_file_id": "1AuYFROC4a7idg0rv37I67FA2GmxvsvbW",
      "authorship_tag": "ABX9TyNMWJN3gAskmdQ0Ls+SQh8H",
      "include_colab_link": true
    },
    "kernelspec": {
      "name": "python3",
      "display_name": "Python 3"
    },
    "language_info": {
      "name": "python"
    },
    "widgets": {
      "application/vnd.jupyter.widget-state+json": {
        "cb53a972ab4a450782564c434c6594f5": {
          "model_module": "@jupyter-widgets/controls",
          "model_name": "VBoxModel",
          "model_module_version": "1.5.0",
          "state": {
            "_dom_classes": [
              "widget-interact"
            ],
            "_model_module": "@jupyter-widgets/controls",
            "_model_module_version": "1.5.0",
            "_model_name": "VBoxModel",
            "_view_count": null,
            "_view_module": "@jupyter-widgets/controls",
            "_view_module_version": "1.5.0",
            "_view_name": "VBoxView",
            "box_style": "",
            "children": [
              "IPY_MODEL_cd4207843a2442c8a4156f2871088d62",
              "IPY_MODEL_10593b5604c447cca5d99d2dbc072c28",
              "IPY_MODEL_390a6c44bbd349abb32eade42e5ee29e",
              "IPY_MODEL_c70e92cc41564e2e97f3ac1b9e09d6cd"
            ],
            "layout": "IPY_MODEL_de19267b5996481c87beb92914a2a8bf"
          }
        },
        "cd4207843a2442c8a4156f2871088d62": {
          "model_module": "@jupyter-widgets/controls",
          "model_name": "FloatSliderModel",
          "model_module_version": "1.5.0",
          "state": {
            "_dom_classes": [],
            "_model_module": "@jupyter-widgets/controls",
            "_model_module_version": "1.5.0",
            "_model_name": "FloatSliderModel",
            "_view_count": null,
            "_view_module": "@jupyter-widgets/controls",
            "_view_module_version": "1.5.0",
            "_view_name": "FloatSliderView",
            "continuous_update": true,
            "description": "A",
            "description_tooltip": null,
            "disabled": false,
            "layout": "IPY_MODEL_e67ccabb177940aa9a8d95de840bbc32",
            "max": 4,
            "min": -2,
            "orientation": "horizontal",
            "readout": true,
            "readout_format": ".2f",
            "step": 0.25,
            "style": "IPY_MODEL_b39c754efc1f4bb3b3bd390494b409d4",
            "value": 1.5
          }
        },
        "10593b5604c447cca5d99d2dbc072c28": {
          "model_module": "@jupyter-widgets/controls",
          "model_name": "FloatSliderModel",
          "model_module_version": "1.5.0",
          "state": {
            "_dom_classes": [],
            "_model_module": "@jupyter-widgets/controls",
            "_model_module_version": "1.5.0",
            "_model_name": "FloatSliderModel",
            "_view_count": null,
            "_view_module": "@jupyter-widgets/controls",
            "_view_module_version": "1.5.0",
            "_view_name": "FloatSliderView",
            "continuous_update": true,
            "description": "F",
            "description_tooltip": null,
            "disabled": false,
            "layout": "IPY_MODEL_4e54dd5cabc94df0ada5645a8ffa4c3d",
            "max": 4,
            "min": -2,
            "orientation": "horizontal",
            "readout": true,
            "readout_format": ".2f",
            "step": 0.5,
            "style": "IPY_MODEL_6f0472f8806149119b26ba9b02b32da7",
            "value": 0
          }
        },
        "390a6c44bbd349abb32eade42e5ee29e": {
          "model_module": "@jupyter-widgets/controls",
          "model_name": "FloatSliderModel",
          "model_module_version": "1.5.0",
          "state": {
            "_dom_classes": [],
            "_model_module": "@jupyter-widgets/controls",
            "_model_module_version": "1.5.0",
            "_model_name": "FloatSliderModel",
            "_view_count": null,
            "_view_module": "@jupyter-widgets/controls",
            "_view_module_version": "1.5.0",
            "_view_name": "FloatSliderView",
            "continuous_update": true,
            "description": "Φ",
            "description_tooltip": null,
            "disabled": false,
            "layout": "IPY_MODEL_f55c195173cc47ab9b3c2356af30ab5c",
            "max": 4,
            "min": -4,
            "orientation": "horizontal",
            "readout": true,
            "readout_format": ".2f",
            "step": 0.5,
            "style": "IPY_MODEL_f547e0082ca44ee2a897579d9c324228",
            "value": 0.5
          }
        },
        "c70e92cc41564e2e97f3ac1b9e09d6cd": {
          "model_module": "@jupyter-widgets/output",
          "model_name": "OutputModel",
          "model_module_version": "1.0.0",
          "state": {
            "_dom_classes": [],
            "_model_module": "@jupyter-widgets/output",
            "_model_module_version": "1.0.0",
            "_model_name": "OutputModel",
            "_view_count": null,
            "_view_module": "@jupyter-widgets/output",
            "_view_module_version": "1.0.0",
            "_view_name": "OutputView",
            "layout": "IPY_MODEL_3010ddc374ac4a1cb76443fdce4423c9",
            "msg_id": "",
            "outputs": [
              {
                "output_type": "display_data",
                "data": {
                  "text/plain": "<Figure size 432x288 with 1 Axes>",
                  "image/png": "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\n"
                },
                "metadata": {
                  "needs_background": "light"
                }
              }
            ]
          }
        },
        "de19267b5996481c87beb92914a2a8bf": {
          "model_module": "@jupyter-widgets/base",
          "model_name": "LayoutModel",
          "model_module_version": "1.2.0",
          "state": {
            "_model_module": "@jupyter-widgets/base",
            "_model_module_version": "1.2.0",
            "_model_name": "LayoutModel",
            "_view_count": null,
            "_view_module": "@jupyter-widgets/base",
            "_view_module_version": "1.2.0",
            "_view_name": "LayoutView",
            "align_content": null,
            "align_items": null,
            "align_self": null,
            "border": null,
            "bottom": null,
            "display": null,
            "flex": null,
            "flex_flow": null,
            "grid_area": null,
            "grid_auto_columns": null,
            "grid_auto_flow": null,
            "grid_auto_rows": null,
            "grid_column": null,
            "grid_gap": null,
            "grid_row": null,
            "grid_template_areas": null,
            "grid_template_columns": null,
            "grid_template_rows": null,
            "height": null,
            "justify_content": null,
            "justify_items": null,
            "left": null,
            "margin": null,
            "max_height": null,
            "max_width": null,
            "min_height": null,
            "min_width": null,
            "object_fit": null,
            "object_position": null,
            "order": null,
            "overflow": null,
            "overflow_x": null,
            "overflow_y": null,
            "padding": null,
            "right": null,
            "top": null,
            "visibility": null,
            "width": null
          }
        },
        "e67ccabb177940aa9a8d95de840bbc32": {
          "model_module": "@jupyter-widgets/base",
          "model_name": "LayoutModel",
          "model_module_version": "1.2.0",
          "state": {
            "_model_module": "@jupyter-widgets/base",
            "_model_module_version": "1.2.0",
            "_model_name": "LayoutModel",
            "_view_count": null,
            "_view_module": "@jupyter-widgets/base",
            "_view_module_version": "1.2.0",
            "_view_name": "LayoutView",
            "align_content": null,
            "align_items": null,
            "align_self": null,
            "border": null,
            "bottom": null,
            "display": null,
            "flex": null,
            "flex_flow": null,
            "grid_area": null,
            "grid_auto_columns": null,
            "grid_auto_flow": null,
            "grid_auto_rows": null,
            "grid_column": null,
            "grid_gap": null,
            "grid_row": null,
            "grid_template_areas": null,
            "grid_template_columns": null,
            "grid_template_rows": null,
            "height": null,
            "justify_content": null,
            "justify_items": null,
            "left": null,
            "margin": null,
            "max_height": null,
            "max_width": null,
            "min_height": null,
            "min_width": null,
            "object_fit": null,
            "object_position": null,
            "order": null,
            "overflow": null,
            "overflow_x": null,
            "overflow_y": null,
            "padding": null,
            "right": null,
            "top": null,
            "visibility": null,
            "width": null
          }
        },
        "b39c754efc1f4bb3b3bd390494b409d4": {
          "model_module": "@jupyter-widgets/controls",
          "model_name": "SliderStyleModel",
          "model_module_version": "1.5.0",
          "state": {
            "_model_module": "@jupyter-widgets/controls",
            "_model_module_version": "1.5.0",
            "_model_name": "SliderStyleModel",
            "_view_count": null,
            "_view_module": "@jupyter-widgets/base",
            "_view_module_version": "1.2.0",
            "_view_name": "StyleView",
            "description_width": "",
            "handle_color": null
          }
        },
        "4e54dd5cabc94df0ada5645a8ffa4c3d": {
          "model_module": "@jupyter-widgets/base",
          "model_name": "LayoutModel",
          "model_module_version": "1.2.0",
          "state": {
            "_model_module": "@jupyter-widgets/base",
            "_model_module_version": "1.2.0",
            "_model_name": "LayoutModel",
            "_view_count": null,
            "_view_module": "@jupyter-widgets/base",
            "_view_module_version": "1.2.0",
            "_view_name": "LayoutView",
            "align_content": null,
            "align_items": null,
            "align_self": null,
            "border": null,
            "bottom": null,
            "display": null,
            "flex": null,
            "flex_flow": null,
            "grid_area": null,
            "grid_auto_columns": null,
            "grid_auto_flow": null,
            "grid_auto_rows": null,
            "grid_column": null,
            "grid_gap": null,
            "grid_row": null,
            "grid_template_areas": null,
            "grid_template_columns": null,
            "grid_template_rows": null,
            "height": null,
            "justify_content": null,
            "justify_items": null,
            "left": null,
            "margin": null,
            "max_height": null,
            "max_width": null,
            "min_height": null,
            "min_width": null,
            "object_fit": null,
            "object_position": null,
            "order": null,
            "overflow": null,
            "overflow_x": null,
            "overflow_y": null,
            "padding": null,
            "right": null,
            "top": null,
            "visibility": null,
            "width": null
          }
        },
        "6f0472f8806149119b26ba9b02b32da7": {
          "model_module": "@jupyter-widgets/controls",
          "model_name": "SliderStyleModel",
          "model_module_version": "1.5.0",
          "state": {
            "_model_module": "@jupyter-widgets/controls",
            "_model_module_version": "1.5.0",
            "_model_name": "SliderStyleModel",
            "_view_count": null,
            "_view_module": "@jupyter-widgets/base",
            "_view_module_version": "1.2.0",
            "_view_name": "StyleView",
            "description_width": "",
            "handle_color": null
          }
        },
        "f55c195173cc47ab9b3c2356af30ab5c": {
          "model_module": "@jupyter-widgets/base",
          "model_name": "LayoutModel",
          "model_module_version": "1.2.0",
          "state": {
            "_model_module": "@jupyter-widgets/base",
            "_model_module_version": "1.2.0",
            "_model_name": "LayoutModel",
            "_view_count": null,
            "_view_module": "@jupyter-widgets/base",
            "_view_module_version": "1.2.0",
            "_view_name": "LayoutView",
            "align_content": null,
            "align_items": null,
            "align_self": null,
            "border": null,
            "bottom": null,
            "display": null,
            "flex": null,
            "flex_flow": null,
            "grid_area": null,
            "grid_auto_columns": null,
            "grid_auto_flow": null,
            "grid_auto_rows": null,
            "grid_column": null,
            "grid_gap": null,
            "grid_row": null,
            "grid_template_areas": null,
            "grid_template_columns": null,
            "grid_template_rows": null,
            "height": null,
            "justify_content": null,
            "justify_items": null,
            "left": null,
            "margin": null,
            "max_height": null,
            "max_width": null,
            "min_height": null,
            "min_width": null,
            "object_fit": null,
            "object_position": null,
            "order": null,
            "overflow": null,
            "overflow_x": null,
            "overflow_y": null,
            "padding": null,
            "right": null,
            "top": null,
            "visibility": null,
            "width": null
          }
        },
        "f547e0082ca44ee2a897579d9c324228": {
          "model_module": "@jupyter-widgets/controls",
          "model_name": "SliderStyleModel",
          "model_module_version": "1.5.0",
          "state": {
            "_model_module": "@jupyter-widgets/controls",
            "_model_module_version": "1.5.0",
            "_model_name": "SliderStyleModel",
            "_view_count": null,
            "_view_module": "@jupyter-widgets/base",
            "_view_module_version": "1.2.0",
            "_view_name": "StyleView",
            "description_width": "",
            "handle_color": null
          }
        },
        "3010ddc374ac4a1cb76443fdce4423c9": {
          "model_module": "@jupyter-widgets/base",
          "model_name": "LayoutModel",
          "model_module_version": "1.2.0",
          "state": {
            "_model_module": "@jupyter-widgets/base",
            "_model_module_version": "1.2.0",
            "_model_name": "LayoutModel",
            "_view_count": null,
            "_view_module": "@jupyter-widgets/base",
            "_view_module_version": "1.2.0",
            "_view_name": "LayoutView",
            "align_content": null,
            "align_items": null,
            "align_self": null,
            "border": null,
            "bottom": null,
            "display": null,
            "flex": null,
            "flex_flow": null,
            "grid_area": null,
            "grid_auto_columns": null,
            "grid_auto_flow": null,
            "grid_auto_rows": null,
            "grid_column": null,
            "grid_gap": null,
            "grid_row": null,
            "grid_template_areas": null,
            "grid_template_columns": null,
            "grid_template_rows": null,
            "height": null,
            "justify_content": null,
            "justify_items": null,
            "left": null,
            "margin": null,
            "max_height": null,
            "max_width": null,
            "min_height": null,
            "min_width": null,
            "object_fit": null,
            "object_position": null,
            "order": null,
            "overflow": null,
            "overflow_x": null,
            "overflow_y": null,
            "padding": null,
            "right": null,
            "top": null,
            "visibility": null,
            "width": null
          }
        }
      }
    }
  },
  "cells": [
    {
      "cell_type": "markdown",
      "metadata": {
        "id": "view-in-github",
        "colab_type": "text"
      },
      "source": [
        "<a href=\"https://colab.research.google.com/github/dnevo/ImageProcessing/blob/main/Copy_of_ImageProcessingRecitation_11_Fourier1.ipynb\" target=\"_parent\"><img src=\"https://colab.research.google.com/assets/colab-badge.svg\" alt=\"Open In Colab\"/></a>"
      ]
    },
    {
      "cell_type": "code",
      "source": [
        "from ipywidgets import interactive\n",
        "import matplotlib.pyplot as plt\n",
        "import numpy as np\n",
        "π = np.pi"
      ],
      "metadata": {
        "id": "V8RNCGVRGZXw"
      },
      "execution_count": null,
      "outputs": []
    },
    {
      "cell_type": "code",
      "source": [
        "def plot_axis(splot, x, xlabel, y, ylabel, xlim=False, ylim=False):\n",
        "    splot.plot(x, y)\n",
        "    if splot == plt:\n",
        "        splot.xlabel(xlabel)\n",
        "        splot.ylabel(ylabel)\n",
        "        if xlim:\n",
        "            plt.xlim(xlim)\n",
        "        if ylim:\n",
        "            plt.ylim(ylim)\n",
        "    else:\n",
        "        splot.set_xlabel(xlabel)\n",
        "        splot.set_ylabel(ylabel)\n",
        "        if xlim:\n",
        "            splot.set_xlim(xlim)\n",
        "        if ylim:\n",
        "            splot.set_ylim(ylim)\n",
        "    splot.axhline(y=0, color='k')\n",
        "    splot.axvline(x=0, color='k')\n",
        "    splot.grid()"
      ],
      "metadata": {
        "id": "49uAITifRC1L"
      },
      "execution_count": null,
      "outputs": []
    },
    {
      "cell_type": "code",
      "source": [
        "sampling_frequency = 1000\n",
        "sampling_interval = 1 / sampling_frequency\n",
        "begin_time = 0\n",
        "end_time = 100\n",
        "x = np.arange(begin_time, end_time, sampling_interval)"
      ],
      "metadata": {
        "id": "7MhsUIzGTZ-n"
      },
      "execution_count": null,
      "outputs": []
    },
    {
      "cell_type": "code",
      "source": [
        "def sin_func(A,F,Φ):\n",
        "    y = A * np.sin(2 * π * x * F + π*Φ)\n",
        "    pos_ylim = np.max([np.ceil(np.max(np.abs(y)))+1, 1])\n",
        "    ylim = [-pos_ylim, +pos_ylim]\n",
        "    plot_axis(plt, x, 'Time', y, 'A', xlim=[0, 3], ylim=ylim)\n",
        "    plt.show()\n",
        "\n",
        "interactive(sin_func,A=(-2,4.0, 0.25),F=(-2.0,4.0, 0.5), Φ=(-4.0,4.0, 0.5))"
      ],
      "metadata": {
        "colab": {
          "base_uri": "https://localhost:8080/",
          "height": 379,
          "referenced_widgets": [
            "cb53a972ab4a450782564c434c6594f5",
            "cd4207843a2442c8a4156f2871088d62",
            "10593b5604c447cca5d99d2dbc072c28",
            "390a6c44bbd349abb32eade42e5ee29e",
            "c70e92cc41564e2e97f3ac1b9e09d6cd",
            "de19267b5996481c87beb92914a2a8bf",
            "e67ccabb177940aa9a8d95de840bbc32",
            "b39c754efc1f4bb3b3bd390494b409d4",
            "4e54dd5cabc94df0ada5645a8ffa4c3d",
            "6f0472f8806149119b26ba9b02b32da7",
            "f55c195173cc47ab9b3c2356af30ab5c",
            "f547e0082ca44ee2a897579d9c324228",
            "3010ddc374ac4a1cb76443fdce4423c9"
          ]
        },
        "id": "kLpzn7fcHtt-",
        "outputId": "844ddbc3-af7e-4a98-9fbe-f8fad2fd6fd3"
      },
      "execution_count": null,
      "outputs": [
        {
          "output_type": "display_data",
          "data": {
            "text/plain": [
              "interactive(children=(FloatSlider(value=1.0, description='A', max=4.0, min=-2.0, step=0.25), FloatSlider(value…"
            ],
            "application/vnd.jupyter.widget-view+json": {
              "version_major": 2,
              "version_minor": 0,
              "model_id": "cb53a972ab4a450782564c434c6594f5"
            }
          },
          "metadata": {}
        }
      ]
    }
  ]
}