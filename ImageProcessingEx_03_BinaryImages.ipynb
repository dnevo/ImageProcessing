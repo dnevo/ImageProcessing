{
  "nbformat": 4,
  "nbformat_minor": 0,
  "metadata": {
    "colab": {
      "provenance": [],
      "toc_visible": true,
      "authorship_tag": "ABX9TyPmtA+HVIpm1w8Qic8ydHku",
      "include_colab_link": true
    },
    "kernelspec": {
      "name": "python3",
      "display_name": "Python 3"
    },
    "language_info": {
      "name": "python"
    }
  },
  "cells": [
    {
      "cell_type": "markdown",
      "metadata": {
        "id": "view-in-github",
        "colab_type": "text"
      },
      "source": [
        "<a href=\"https://colab.research.google.com/github/dnevo/ImageProcessing/blob/main/ImageProcessingEx_03_BinaryImages.ipynb\" target=\"_parent\"><img src=\"https://colab.research.google.com/assets/colab-badge.svg\" alt=\"Open In Colab\"/></a>"
      ]
    },
    {
      "cell_type": "markdown",
      "source": [
        "# Image Processing Assignment 3: Binary images\n",
        "\n",
        "Before we start, please put your names and IDs in following format\n",
        "\n",
        ": Firstname LASTNAME, #00000000   //   (e.g.) Dana LEVI, #12345678"
      ],
      "metadata": {
        "id": "XM5Obno8XUga"
      }
    },
    {
      "cell_type": "markdown",
      "source": [
        "**Your Answer:**   \n",
        "Xxxxx XXXXX, #nnnnnn"
      ],
      "metadata": {
        "id": "GbhV7iHQLOkf"
      }
    },
    {
      "cell_type": "markdown",
      "metadata": {
        "button": false,
        "deletable": true,
        "id": "BRIqwJUr2HuN",
        "new_sheet": false,
        "run_control": {
          "read_only": false
        }
      },
      "source": [
        "In this exercise, you will implement **Binary Images** algorithms.\n",
        "\n",
        "Methods: as explained in class.\n",
        "\n",
        "Notes:\n",
        "*   Write your code in the dedicated areas (TODO blocks). You can add helper functions.\n",
        "*   Submission email should include a link to the Colab submission notebook located on your Google Drive with Commenter access right to nev1958a@gmail.com\n",
        "*   The solution notebook should be able to be run (‘Run all’) with no errors.\n",
        "In case of errors, the submission will be disqualified.\n",
        "*   The grade will depend on correct performance on several grayscale images and on clean programming and documentation.\n",
        "*   Do not forget to add the Names and Student I.D. at the top of the notebook.\n",
        "*   All images are given as 2-dimensional matrices of type `float`, with values in the range [0..1].\n",
        "*   Pay Attention! In the following functions, the returned images must be the same size as the original Images!\n",
        "\n",
        "Please implement the following functions:\n",
        "1. Write the `tag_connected_components` function which finds the connected components in a binary image and returns a matrix with the same size in which each connected component is tagged with a different label. The tags should be sequential.\n",
        "2. Write the `skeletonizeImage` function which skeletonizes objects in a given binary image and returns the new binary image.\n",
        "\n",
        "**Note** In these images, **1** represents the object, and **0** (black) represents the background."
      ]
    },
    {
      "cell_type": "markdown",
      "metadata": {
        "button": false,
        "deletable": true,
        "id": "MzqbYcKdz6ew",
        "new_sheet": false,
        "run_control": {
          "read_only": false
        }
      },
      "source": [
        "## Setup Code\n",
        "Before getting started, we need to run some boilerplate code to set up our environment. You will need to rerun this setup code each time you start the notebook."
      ]
    },
    {
      "cell_type": "code",
      "execution_count": null,
      "metadata": {
        "button": false,
        "deletable": true,
        "id": "omkktd9ywDxp",
        "jupyter": {
          "outputs_hidden": false
        },
        "new_sheet": false,
        "run_control": {
          "read_only": false
        }
      },
      "outputs": [],
      "source": [
        "import os\n",
        "import requests\n",
        "from io import BytesIO\n",
        "import numpy as np\n",
        "import matplotlib.pyplot as plt\n",
        "import PIL"
      ]
    },
    {
      "cell_type": "code",
      "source": [
        "GITHUB_PATH = 'https://raw.githubusercontent.com/dnevo/ImageProcessing/main/images/'"
      ],
      "metadata": {
        "id": "FUrQ_WDwOWV2"
      },
      "execution_count": null,
      "outputs": []
    },
    {
      "cell_type": "code",
      "execution_count": null,
      "metadata": {
        "button": false,
        "deletable": true,
        "id": "mlvjNCPxvmUE",
        "jupyter": {
          "outputs_hidden": false
        },
        "new_sheet": false,
        "run_control": {
          "read_only": false
        }
      },
      "outputs": [],
      "source": [
        "def read_file(file_name:str, file_path:str=GITHUB_PATH) -> np.ndarray:\n",
        "    '''\n",
        "    Accept an image file name (defaulty located in GitHub) and return the image\n",
        "    in a numpy array.\n",
        "\n",
        "    Args:\n",
        "        file_name: the file name\n",
        "        file_path: the file path.. Default value is Doron's Github repo.\n",
        "\n",
        "    Returns:\n",
        "        the image converted into a Numpy array.\n",
        "    '''\n",
        "    file_path = os.path.join(file_path, file_name)\n",
        "    response = requests.get(file_path)\n",
        "    fp = BytesIO(response.content)\n",
        "\n",
        "    img_pil = PIL.Image.open(fp)\n",
        "    return np.array(img_pil, dtype='int16')"
      ]
    },
    {
      "cell_type": "code",
      "source": [
        "def pretty_print(img):\n",
        "    ''' pretty printing of binary imagees and connected components - by\n",
        "    replacing zeros with whitespaces.\n",
        "    Args:\n",
        "        img: image in float format (range: 0..1) - the source binary image\n",
        "        file_path: the file path.. Default value is Doron's Github repo.\n",
        "\n",
        "    Returns:\n",
        "        the image converted into a Numpy array.\n",
        "    '''\n",
        "    for r in range(img.shape[0]):\n",
        "        l = [str(img[r,c].astype(np.int16)) if img[r,c]>0 else ' ' for c in range(img.shape[1])]\n",
        "        print(''.join(map(str, l)))"
      ],
      "metadata": {
        "id": "9zqqPou5V102"
      },
      "execution_count": null,
      "outputs": []
    },
    {
      "cell_type": "code",
      "source": [
        "def plot_images(img1:np.array, img2:np.array):\n",
        "    fig, axes = plt.subplots(nrows=1, ncols=2, figsize=(14, 6))\n",
        "    axes[0].imshow(img1,  cmap='gray')\n",
        "    axes[1].imshow(img2,  cmap='gray')"
      ],
      "metadata": {
        "id": "UTUdrIWIgRet"
      },
      "execution_count": null,
      "outputs": []
    },
    {
      "cell_type": "markdown",
      "source": [
        "## `tag_connected_components`"
      ],
      "metadata": {
        "id": "7aMsm217SCXe"
      }
    },
    {
      "cell_type": "code",
      "source": [
        "def tag_connected_components(img: np.array) -> np.array:\n",
        "    '''\n",
        "    This function receives a binary image and finds the connected components\n",
        "    in it and returns a matrix with the same size in which each connected\n",
        "    componnent is tagged with a different label. The tags should be sequential.\n",
        "\n",
        "    Args:\n",
        "        img: image in float format (range: 0..1) - the source binary image\n",
        "\n",
        "    Returns:\n",
        "        img_new: in float format - the image with components tagging in a\n",
        "        2-dimensional matrice\n",
        "    '''\n",
        "    ######################################################################\n",
        "    # TODO: Implement The tag connected components algorithm.\n",
        "    ######################################################################\n",
        "    pass\n",
        "    ######################################################################\n",
        "    #                            END OF YOUR CODE                        #\n",
        "    ######################################################################\n",
        "\n",
        "    return img_new"
      ],
      "metadata": {
        "id": "MVwUlI0hf2re"
      },
      "execution_count": null,
      "outputs": []
    },
    {
      "cell_type": "code",
      "source": [
        "img = np.array([[0,0,0,0,0,0,0,0,0],\n",
        "       [0,1,0,0,0,1,0,0,0],\n",
        "       [0,1,0,1,0,1,0,1,0],\n",
        "       [0,1,0,1,0,1,0,1,0],\n",
        "       [0,1,1,1,1,1,0,1,0],\n",
        "       [0,0,0,0,0,0,0,1,0],\n",
        "       [0,0,0,0,1,1,1,1,0],\n",
        "       [0,0,0,0,0,0,0,0,0]])\n",
        "img_n = tag_connected_components(img)\n",
        "plot_images(img, img_n)"
      ],
      "metadata": {
        "id": "XUSfSfbkh8xc",
        "colab": {
          "base_uri": "https://localhost:8080/",
          "height": 364
        },
        "outputId": "6e29a104-828b-43e5-aa78-ce99fcd2a185"
      },
      "execution_count": null,
      "outputs": [
        {
          "output_type": "display_data",
          "data": {
            "text/plain": [
              "<Figure size 1008x432 with 2 Axes>"
            ],
            "image/png": "[encoded data removed]"
          },
          "metadata": {
            "needs_background": "light"
          }
        }
      ]
    },
    {
      "cell_type": "code",
      "source": [
        "pretty_print(img_n)"
      ],
      "metadata": {
        "colab": {
          "base_uri": "https://localhost:8080/"
        },
        "id": "EtkMrMacSiit",
        "outputId": "36d61a82-4328-4b7c-ff3a-8cdc2abaf0ef"
      },
      "execution_count": null,
      "outputs": [
        {
          "output_type": "stream",
          "name": "stdout",
          "text": [
            "         \n",
            " 1   1   \n",
            " 1 1 1 2 \n",
            " 1 1 1 2 \n",
            " 11111 2 \n",
            "       2 \n",
            "    2222 \n",
            "         \n"
          ]
        }
      ]
    },
    {
      "cell_type": "code",
      "source": [
        "img = read_file('binary1.tiff') / 255\n",
        "img_n = tag_connected_components(img)\n",
        "plot_images(img, img_n)"
      ],
      "metadata": {
        "id": "6Vjh_l2Sh0dK",
        "outputId": "2aeb7ba0-3767-4c7d-91d4-967d22655562",
        "colab": {
          "base_uri": "https://localhost:8080/",
          "height": 374
        }
      },
      "execution_count": null,
      "outputs": [
        {
          "output_type": "display_data",
          "data": {
            "text/plain": [
              "<Figure size 1008x432 with 2 Axes>"
            ],
            "image/png": "[encoded data removed]"
          },
          "metadata": {
            "needs_background": "light"
          }
        }
      ]
    },
    {
      "cell_type": "code",
      "source": [
        "pretty_print(img_n)"
      ],
      "metadata": {
        "id": "YrJuhifBwbBv",
        "outputId": "d82a49ae-2be8-4a8c-e6a2-0c8cd8fb4512",
        "colab": {
          "base_uri": "https://localhost:8080/"
        }
      },
      "execution_count": null,
      "outputs": [
        {
          "output_type": "stream",
          "name": "stdout",
          "text": [
            "                              \n",
            "    1111111111     2 2 2      \n",
            "    1111111111     2 2 2      \n",
            "    11      11     2 2 2      \n",
            "    11 33   11    222222      \n",
            "    11 33   11     2 2 2      \n",
            "    11      11     2 2 2      \n",
            "    1111111111     2 2 2      \n",
            "    1111111111                \n",
            "                              \n",
            "                       4      \n",
            "                       4      \n",
            "         444444444444444      \n",
            "         4                    \n",
            "         4                    \n",
            "         4    4444444444      \n",
            "         4    4        4      \n",
            "         4    4        4      \n",
            "         4    4  4444  4      \n",
            "         4    4  4  4  4      \n",
            "         4    4  4  4  4      \n",
            "         4    4     4  4      \n",
            "         4    4     4  4      \n",
            "         4    4444444  4      \n",
            "         4             4      \n",
            "         4             4      \n",
            "         444444444444444      \n",
            "                              \n",
            "                              \n",
            "                              \n"
          ]
        }
      ]
    },
    {
      "cell_type": "code",
      "source": [
        "img = read_file('binary2.tiff') / 255\n",
        "img_n = tag_connected_components(img)\n",
        "plot_images(img, img_n)"
      ],
      "metadata": {
        "id": "O1bG2p3HYspp",
        "outputId": "911a4f89-33ff-4339-8322-ec61d9750d0f",
        "colab": {
          "base_uri": "https://localhost:8080/",
          "height": 374
        }
      },
      "execution_count": null,
      "outputs": [
        {
          "output_type": "display_data",
          "data": {
            "text/plain": [
              "<Figure size 1008x432 with 2 Axes>"
            ],
            "image/png": "[encoded data removed]"
          },
          "metadata": {
            "needs_background": "light"
          }
        }
      ]
    },
    {
      "cell_type": "code",
      "source": [
        "pretty_print(img_n)"
      ],
      "metadata": {
        "id": "JSxBtVFvYspq",
        "outputId": "5b628329-50e6-4451-904a-ce51468ef78a",
        "colab": {
          "base_uri": "https://localhost:8080/"
        }
      },
      "execution_count": null,
      "outputs": [
        {
          "output_type": "stream",
          "name": "stdout",
          "text": [
            "                                   \n",
            "                                   \n",
            "                                   \n",
            "                     1111111       \n",
            "    2                1111111       \n",
            "                     11   11       \n",
            "                     11   11       \n",
            "         3333        11   11       \n",
            "         3333        11   1111     \n",
            "         3333        11   1111     \n",
            "         33333       11   1111     \n",
            "         33333       111111111     \n",
            "         33333       111111111     \n",
            "         33333       111111111     \n",
            "         33333                     \n",
            "         33333                     \n",
            "         33333                     \n",
            "                                   \n",
            "                                   \n",
            "                                   \n",
            "    4                              \n",
            "    4           5   5   5   5   5  \n",
            "    4           5   5   5   5   5  \n",
            "    4           5   5   5   5   5  \n",
            "    4           5   5   5   5   5  \n",
            "    4           5   5   5   5   5  \n",
            "    4           5   5   5   5   5  \n",
            "    4           5   5   5   5   5  \n",
            "    4           5   5   5   5   5  \n",
            "    4           5   5   5   5   5  \n",
            "    4           5   5   5   5   5  \n",
            "    44444       55555555555555555  \n",
            "                                   \n",
            "                                   \n",
            "                                   \n"
          ]
        }
      ]
    },
    {
      "cell_type": "markdown",
      "source": [
        "## `skeletonizeImage `"
      ],
      "metadata": {
        "id": "sDEfY6srn2IG"
      }
    },
    {
      "cell_type": "code",
      "source": [
        "def skeletonizeImage (img: np.array) -> np.array:\n",
        "    '''\n",
        "    This function receives a binary image and finds the connected components\n",
        "    in it and returns a new binary image with skeletonize objects.\n",
        "\n",
        "    Args:\n",
        "        img: image in float format (range: 0..1) - the source binary image\n",
        "\n",
        "    Returns:\n",
        "        img_new: in float format (range: 0..1) - the image with skeleton\n",
        "                    in a 2 dimensional matrice.\n",
        "    '''\n",
        "    ######################################################################\n",
        "    # TODO: Implement The skeletonize algorithm.\n",
        "    ######################################################################\n",
        "    pass\n",
        "    ######################################################################\n",
        "    #                            END OF YOUR CODE                        #\n",
        "    ######################################################################\n",
        "    return img_new"
      ],
      "metadata": {
        "id": "3SVt3jZ_n2II"
      },
      "execution_count": null,
      "outputs": []
    },
    {
      "cell_type": "code",
      "source": [
        "img = np.array([[0,0,0,0,0,0,0,0,0],\n",
        "                [0,1,1,1,1,1,1,1,0],\n",
        "                [0,1,1,1,1,1,1,1,0],\n",
        "                [0,1,1,1,1,1,1,1,0],\n",
        "                [0,0,0,1,1,1,0,0,0],\n",
        "                [0,0,0,1,1,1,0,0,0],\n",
        "                [0,0,0,1,1,1,0,0,0],\n",
        "                [0,0,0,1,1,1,0,0,0],\n",
        "                [0,0,0,0,0,0,0,0,0]])\n",
        "img_new = skeletonizeImage(img)\n",
        "plot_images(img, img_new)"
      ],
      "metadata": {
        "id": "NkGwE2Rfz6G7",
        "outputId": "d487f91d-7cd0-4cba-bb30-81e981395d79",
        "colab": {
          "base_uri": "https://localhost:8080/",
          "height": 374
        }
      },
      "execution_count": null,
      "outputs": [
        {
          "output_type": "display_data",
          "data": {
            "text/plain": [
              "<Figure size 1008x432 with 2 Axes>"
            ],
            "image/png": "[encoded data removed]"
          },
          "metadata": {
            "needs_background": "light"
          }
        }
      ]
    },
    {
      "cell_type": "code",
      "source": [
        "img = read_file('binary1.tiff') / 255\n",
        "img_n = skeletonizeImage(img)\n",
        "plot_images(img, img_n)"
      ],
      "metadata": {
        "id": "290qikfjwyb-",
        "outputId": "2224beb4-aa43-4c81-8523-79186b904f8c",
        "colab": {
          "base_uri": "https://localhost:8080/",
          "height": 374
        }
      },
      "execution_count": null,
      "outputs": [
        {
          "output_type": "display_data",
          "data": {
            "text/plain": [
              "<Figure size 1008x432 with 2 Axes>"
            ],
            "image/png": "[encoded data removed]"
          },
          "metadata": {
            "needs_background": "light"
          }
        }
      ]
    },
    {
      "cell_type": "code",
      "source": [
        "img = read_file('binary2.tiff') / 255\n",
        "img_n = skeletonizeImage(img)\n",
        "plot_images(img, img_n)"
      ],
      "metadata": {
        "id": "MPOFzLGXw9D5",
        "outputId": "8cce3ec0-c58f-4b8a-f9f8-e97f43eaf725",
        "colab": {
          "base_uri": "https://localhost:8080/",
          "height": 374
        }
      },
      "execution_count": null,
      "outputs": [
        {
          "output_type": "display_data",
          "data": {
            "text/plain": [
              "<Figure size 1008x432 with 2 Axes>"
            ],
            "image/png": "[encoded data removed]"
          },
          "metadata": {
            "needs_background": "light"
          }
        }
      ]
    },
    {
      "cell_type": "code",
      "source": [],
      "metadata": {
        "id": "ZrOObu8SxDYs"
      },
      "execution_count": null,
      "outputs": []
    }
  ]
}