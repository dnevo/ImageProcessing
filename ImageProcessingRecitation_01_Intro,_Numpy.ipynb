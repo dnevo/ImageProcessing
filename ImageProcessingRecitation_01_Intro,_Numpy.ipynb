{
  "nbformat": 4,
  "nbformat_minor": 0,
  "metadata": {
    "colab": {
      "provenance": [],
      "toc_visible": true,
      "mount_file_id": "1IFP9FWNmUs3rd0tK966ph8dgul97EKEC",
      "authorship_tag": "ABX9TyMNQ1miqgJCG6lHUXRI1NnY",
      "include_colab_link": true
    },
    "kernelspec": {
      "name": "python3",
      "display_name": "Python 3"
    },
    "language_info": {
      "name": "python"
    }
  },
  "cells": [
    {
      "cell_type": "markdown",
      "metadata": {
        "id": "view-in-github",
        "colab_type": "text"
      },
      "source": [
        "<a href=\"https://colab.research.google.com/github/dnevo/ImageProcessing/blob/main/ImageProcessingRecitation_01_Intro%2C_Numpy.ipynb\" target=\"_parent\"><img src=\"https://colab.research.google.com/assets/colab-badge.svg\" alt=\"Open In Colab\"/></a>"
      ]
    },
    {
      "cell_type": "markdown",
      "source": [
        "# 1 Numpy"
      ],
      "metadata": {
        "id": "p98LMvoDwL_j"
      }
    },
    {
      "cell_type": "markdown",
      "source": [
        "Numpy is the core library for scientific computing in Python. It provides a high-performance multidimensional array object, and tools for working with these arrays.\n",
        "\n",
        "To use Numpy, we first need to import the `numpy` package:"
      ],
      "metadata": {
        "id": "YlGNcp6nwUlY"
      }
    },
    {
      "cell_type": "code",
      "source": [
        "import numpy as np"
      ],
      "metadata": {
        "id": "CXk08JpSwLIx"
      },
      "execution_count": 2,
      "outputs": []
    },
    {
      "cell_type": "markdown",
      "source": [
        "## 1.1 Arrays"
      ],
      "metadata": {
        "id": "T1BW0AghwkT3"
      }
    },
    {
      "cell_type": "markdown",
      "source": [
        "A numpy array represents an n-dimentional grid of values, all of the same type, and is indexed by a tuple of nonnegative integers.\n",
        "\n",
        "- The number of dimensions is the **rank** of the array\n",
        "- The **shape** of an array is a tuple of integers giving the size of the array along each dimension"
      ],
      "metadata": {
        "id": "8h1sSMwH033B"
      }
    },
    {
      "cell_type": "markdown",
      "source": [
        "We can initialize numpy arrays from nested Python lists, and access elements using square brackets:"
      ],
      "metadata": {
        "id": "TbiBkKSP09yJ"
      }
    },
    {
      "cell_type": "code",
      "source": [
        "a = np.array([1, 2, 3])  # Create a rank 1 array\n",
        "print(f'type={type(a)}, shape={a.shape}, a[1]={a[1]},')"
      ],
      "metadata": {
        "colab": {
          "base_uri": "https://localhost:8080/"
        },
        "id": "kKtFTZY40_My",
        "outputId": "09740ba3-89a5-4f2e-a19b-62a34fbcff41"
      },
      "execution_count": null,
      "outputs": [
        {
          "output_type": "stream",
          "name": "stdout",
          "text": [
            "type=<class 'numpy.ndarray'>, shape=(3,), a[1]=2\n"
          ]
        }
      ]
    },
    {
      "cell_type": "code",
      "execution_count": null,
      "metadata": {
        "id": "GkAmj7zAv7qf",
        "outputId": "fc060327-223e-4aba-c39c-338452a2ffbb",
        "colab": {
          "base_uri": "https://localhost:8080/"
        }
      },
      "outputs": [
        {
          "output_type": "execute_result",
          "data": {
            "text/plain": [
              "array([5, 2, 3])"
            ]
          },
          "metadata": {},
          "execution_count": 3
        }
      ],
      "source": [
        "a[0] = 5                 # Change an element of the array\n",
        "a"
      ]
    },
    {
      "cell_type": "code",
      "execution_count": 3,
      "metadata": {
        "id": "wj5luBJRv7qf",
        "outputId": "efc5f4b8-2e9d-430c-c36c-94613abae6b3",
        "colab": {
          "base_uri": "https://localhost:8080/"
        }
      },
      "outputs": [
        {
          "output_type": "stream",
          "name": "stdout",
          "text": [
            "[[1 2 3]\n",
            " [4 5 6]]\n",
            "shape = (2, 3)\n"
          ]
        }
      ],
      "source": [
        "b = np.array([[1,2,3],\n",
        "              [4,5,6]])   # Create a rank 2 array\n",
        "print(b)\n",
        "print('shape =', b.shape)"
      ]
    },
    {
      "cell_type": "code",
      "execution_count": null,
      "metadata": {
        "id": "qHZfs59Bv7qf",
        "outputId": "722ad034-0515-4531-fe9f-c85e47a59847",
        "colab": {
          "base_uri": "https://localhost:8080/"
        }
      },
      "outputs": [
        {
          "output_type": "stream",
          "name": "stdout",
          "text": [
            "1 2 4\n"
          ]
        }
      ],
      "source": [
        "print(b[0, 0], b[0, 1], b[1, 0])"
      ]
    },
    {
      "cell_type": "markdown",
      "metadata": {
        "id": "uCsMCncSv7qg"
      },
      "source": [
        "Numpy also provides many functions to create arrays:"
      ]
    },
    {
      "cell_type": "code",
      "execution_count": null,
      "metadata": {
        "id": "DnWqS60Dv7qg",
        "outputId": "1fdffab6-208a-4640-e56e-866e7303a967",
        "colab": {
          "base_uri": "https://localhost:8080/"
        }
      },
      "outputs": [
        {
          "output_type": "execute_result",
          "data": {
            "text/plain": [
              "array([[0., 0.],\n",
              "       [0., 0.]])"
            ]
          },
          "metadata": {},
          "execution_count": 6
        }
      ],
      "source": [
        "np.zeros((2,2))  # Create an array of all zeros"
      ]
    },
    {
      "cell_type": "code",
      "execution_count": null,
      "metadata": {
        "id": "YRfK2gXCv7qg",
        "outputId": "cfb7d019-0457-4a20-dcfc-e39e6bfea53e",
        "colab": {
          "base_uri": "https://localhost:8080/"
        }
      },
      "outputs": [
        {
          "output_type": "execute_result",
          "data": {
            "text/plain": [
              "array([[1., 1., 1., 1., 1., 1., 1., 1., 1., 1.]])"
            ]
          },
          "metadata": {},
          "execution_count": 7
        }
      ],
      "source": [
        "np.ones((1,10))   # Create an array of all ones"
      ]
    },
    {
      "cell_type": "code",
      "execution_count": null,
      "metadata": {
        "id": "RHvThJeWv7qh",
        "outputId": "362b610f-8ebd-433d-dd9b-7c0a88b5935c",
        "colab": {
          "base_uri": "https://localhost:8080/"
        }
      },
      "outputs": [
        {
          "output_type": "execute_result",
          "data": {
            "text/plain": [
              "array([[7.2, 7.2, 7.2],\n",
              "       [7.2, 7.2, 7.2],\n",
              "       [7.2, 7.2, 7.2]])"
            ]
          },
          "metadata": {},
          "execution_count": 8
        }
      ],
      "source": [
        "np.full((3,3), 7.2) # Create a constant array"
      ]
    },
    {
      "cell_type": "code",
      "execution_count": null,
      "metadata": {
        "id": "-wM0KC-Uv7qi",
        "outputId": "05146632-0e21-433f-ad37-781200310ff3",
        "colab": {
          "base_uri": "https://localhost:8080/"
        }
      },
      "outputs": [
        {
          "output_type": "execute_result",
          "data": {
            "text/plain": [
              "array([[1, 0, 0, 0],\n",
              "       [0, 1, 0, 0],\n",
              "       [0, 0, 1, 0],\n",
              "       [0, 0, 0, 1]], dtype=int16)"
            ]
          },
          "metadata": {},
          "execution_count": 9
        }
      ],
      "source": [
        "np.eye(4, dtype=np.int16) # Create an identity matrix of integers"
      ]
    },
    {
      "cell_type": "code",
      "execution_count": null,
      "metadata": {
        "id": "m5p87zPbv7qi",
        "outputId": "fd2e96f1-62c7-464a-9046-ddf5e499d3c5",
        "colab": {
          "base_uri": "https://localhost:8080/"
        }
      },
      "outputs": [
        {
          "output_type": "execute_result",
          "data": {
            "text/plain": [
              "array([[[0.5507979 , 0.70814782, 0.29090474],\n",
              "        [0.51082761, 0.89294695, 0.89629309],\n",
              "        [0.12558531, 0.20724288, 0.0514672 ],\n",
              "        [0.44080984, 0.02987621, 0.45683322]],\n",
              "\n",
              "       [[0.64914405, 0.27848728, 0.6762549 ],\n",
              "        [0.59086282, 0.02398188, 0.55885409],\n",
              "        [0.25925245, 0.4151012 , 0.28352508],\n",
              "        [0.69313792, 0.44045372, 0.15686774]],\n",
              "\n",
              "       [[0.54464902, 0.78031476, 0.30636353],\n",
              "        [0.22195788, 0.38797126, 0.93638365],\n",
              "        [0.97599542, 0.67238368, 0.90283411],\n",
              "        [0.84575087, 0.37799404, 0.09221701]],\n",
              "\n",
              "       [[0.6534109 , 0.55784076, 0.36156476],\n",
              "        [0.2250545 , 0.40651992, 0.46894025],\n",
              "        [0.26923558, 0.29179277, 0.4576864 ],\n",
              "        [0.86053391, 0.5862529 , 0.28348786]]])"
            ]
          },
          "metadata": {},
          "execution_count": 10
        }
      ],
      "source": [
        "np.random.seed(3)   # for reproducibility\n",
        "t = np.random.random((4,4,3)) # Create a 3d-array filled with random values\n",
        "t"
      ]
    },
    {
      "cell_type": "code",
      "execution_count": null,
      "metadata": {
        "id": "BPsWrPCav7qj",
        "outputId": "840efadd-d618-402d-e739-cd0658268271",
        "colab": {
          "base_uri": "https://localhost:8080/"
        }
      },
      "outputs": [
        {
          "output_type": "execute_result",
          "data": {
            "text/plain": [
              "0.558854087990882"
            ]
          },
          "metadata": {},
          "execution_count": 11
        }
      ],
      "source": [
        "t[1,1,2]"
      ]
    },
    {
      "cell_type": "markdown",
      "metadata": {
        "id": "LTKAAGGYv7qj"
      },
      "source": [
        "### 1.1.1 Rank-1 Arrays\n",
        "\n",
        "In `numpy` **rank-1** arrays of length `n` have a shape of `(n,)`. Such arrays are somewhat special in that `numpy` can treat them both as column or as row vectors.\n",
        "\n"
      ]
    },
    {
      "cell_type": "code",
      "execution_count": null,
      "metadata": {
        "id": "DG0onqOwv7qj",
        "outputId": "a1e91dbf-5888-4ab8-a145-d85c7b3075b8",
        "colab": {
          "base_uri": "https://localhost:8080/"
        }
      },
      "outputs": [
        {
          "output_type": "stream",
          "name": "stdout",
          "text": [
            "a1 (3,):\n",
            " [1 2 3]\n"
          ]
        }
      ],
      "source": [
        "# A rank-1 array\n",
        "a1 = np.array([1,2,3])\n",
        "print(f'a1 {a1.shape}:\\n', a1)"
      ]
    },
    {
      "cell_type": "code",
      "execution_count": null,
      "metadata": {
        "id": "cm5lMPs4v7qj",
        "outputId": "c8252d89-5ef1-4dfe-9cb0-e34ee4334a08",
        "colab": {
          "base_uri": "https://localhost:8080/"
        }
      },
      "outputs": [
        {
          "output_type": "stream",
          "name": "stdout",
          "text": [
            "a_col (3, 1):\n",
            " [[1]\n",
            " [2]\n",
            " [3]]\n"
          ]
        }
      ],
      "source": [
        "# A columns vector (1 column and \"-1\" rows means \"figure it out\")\n",
        "a_col = a1.reshape(-1, 1)\n",
        "print(f'a_col {a_col.shape}:\\n', a_col)"
      ]
    },
    {
      "cell_type": "code",
      "execution_count": null,
      "metadata": {
        "id": "ClHe7NMcv7qk",
        "outputId": "13501fb9-65fc-4d28-b566-090f44c8ad1d",
        "colab": {
          "base_uri": "https://localhost:8080/"
        }
      },
      "outputs": [
        {
          "output_type": "stream",
          "name": "stdout",
          "text": [
            "a_row (1, 3)=\n",
            " [[1 2 3]]\n"
          ]
        }
      ],
      "source": [
        "# A row vector (1 row and \"-1\" columns)\n",
        "a_row = a1.reshape(1, -1)\n",
        "print(f'a_row {a_row.shape}=\\n', a_row)"
      ]
    },
    {
      "cell_type": "markdown",
      "metadata": {
        "id": "7yqjV2rMv7qk"
      },
      "source": [
        "Rank-1 arrays have different semantics when using them in vector-vector or vector-matrix products, so always make sure you known what shapes you're working with:"
      ]
    },
    {
      "cell_type": "code",
      "execution_count": null,
      "metadata": {
        "id": "cxqLHHCHv7qk",
        "outputId": "5fefff4c-9d7b-473e-8849-fe19b830b20c",
        "colab": {
          "base_uri": "https://localhost:8080/"
        }
      },
      "outputs": [
        {
          "output_type": "stream",
          "name": "stdout",
          "text": [
            "a1 * a1 = 14\n",
            "a_row * a1 = [14]\n",
            "a1 * a_col = [14]\n",
            "a_row * a_col = [[14]]\n",
            "a_col * a_row =\n",
            " [[1 2 3]\n",
            " [2 4 6]\n",
            " [3 6 9]]\n"
          ]
        }
      ],
      "source": [
        "print('a1 * a1 =', np.dot(a1, a1))\n",
        "\n",
        "print('a_row * a1 =', np.dot(a_row, a1))\n",
        "\n",
        "print('a1 * a_col =', np.dot(a1, a_col))\n",
        "\n",
        "print('a_row * a_col =', np.dot(a_row, a_col))\n",
        "print('a_col * a_row =\\n', np.dot(a_col, a_row))"
      ]
    },
    {
      "cell_type": "markdown",
      "metadata": {
        "id": "9KNt1L0Sv7ql"
      },
      "source": [
        "## 1.2 Array indexing"
      ]
    },
    {
      "cell_type": "markdown",
      "metadata": {
        "id": "Dwx81fT6v7ql"
      },
      "source": [
        "Numpy offers several ways to index into arrays."
      ]
    },
    {
      "cell_type": "markdown",
      "metadata": {
        "id": "so1EjdTwv7ql"
      },
      "source": [
        "**Slicing**\n",
        "\n",
        "Similar to Python lists, numpy arrays can be sliced. Since arrays may be multidimensional, you must specify **a slice for each dimension** of the array:"
      ]
    },
    {
      "cell_type": "code",
      "execution_count": 4,
      "metadata": {
        "id": "QWHKNoL5v7ql",
        "outputId": "18ef9b18-8b23-48f2-e68f-491b44d5b564",
        "colab": {
          "base_uri": "https://localhost:8080/"
        }
      },
      "outputs": [
        {
          "output_type": "execute_result",
          "data": {
            "text/plain": [
              "array([[ 1,  2,  3,  4],\n",
              "       [ 5,  6,  7,  8],\n",
              "       [ 9, 10, 11, 12]])"
            ]
          },
          "metadata": {},
          "execution_count": 4
        }
      ],
      "source": [
        "import numpy as np\n",
        "a = np.array([[1, 2, 3, 4],\n",
        "              [5, 6, 7, 8],\n",
        "              [9,10,11,12]])\n",
        "a"
      ]
    },
    {
      "cell_type": "code",
      "execution_count": null,
      "metadata": {
        "id": "zPOA9hNCv7ql",
        "outputId": "e667d285-e425-4bb3-99da-6066bb261978",
        "colab": {
          "base_uri": "https://localhost:8080/"
        }
      },
      "outputs": [
        {
          "output_type": "execute_result",
          "data": {
            "text/plain": [
              "array([[2, 3],\n",
              "       [6, 7]])"
            ]
          },
          "metadata": {},
          "execution_count": 17
        }
      ],
      "source": [
        "b = a[:2, 1:3]\n",
        "b"
      ]
    },
    {
      "cell_type": "markdown",
      "metadata": {
        "id": "cCJfJUoNv7qm"
      },
      "source": [
        "A slice of an array is a **view** into the same in-memory data, so modifying it will modify the original array."
      ]
    },
    {
      "cell_type": "code",
      "execution_count": null,
      "metadata": {
        "id": "L6OW0k6dv7qm",
        "outputId": "497a4d5c-5e4e-44bd-d98a-f210633dfbcb",
        "colab": {
          "base_uri": "https://localhost:8080/"
        }
      },
      "outputs": [
        {
          "output_type": "execute_result",
          "data": {
            "text/plain": [
              "array([[    1, 77777,     3,     4],\n",
              "       [    5,     6,     7,     8],\n",
              "       [    9,    10,    11,    12]])"
            ]
          },
          "metadata": {},
          "execution_count": 18
        }
      ],
      "source": [
        "b[0, 0] = 77777\n",
        "a"
      ]
    },
    {
      "cell_type": "markdown",
      "metadata": {
        "id": "Kpl099z8v7qn"
      },
      "source": [
        "You can also mix integer indexing with slice indexing.\n",
        "However, doing so will yield an array of **lower rank** than the original array."
      ]
    },
    {
      "cell_type": "code",
      "execution_count": null,
      "metadata": {
        "id": "0ddcZoJrv7qn",
        "outputId": "ab5998b5-6b74-4ded-b59a-81e0ad4435eb",
        "colab": {
          "base_uri": "https://localhost:8080/"
        }
      },
      "outputs": [
        {
          "output_type": "execute_result",
          "data": {
            "text/plain": [
              "array([[ 1,  2,  3,  4],\n",
              "       [ 5,  6,  7,  8],\n",
              "       [ 9, 10, 11, 12]])"
            ]
          },
          "metadata": {},
          "execution_count": 19
        }
      ],
      "source": [
        "a = np.array([[1,2,3,4], [5,6,7,8], [9,10,11,12]])\n",
        "a"
      ]
    },
    {
      "cell_type": "markdown",
      "metadata": {
        "id": "cwoBm0nkv7qn"
      },
      "source": [
        "Two ways of accessing the data in the middle row of the array.\n",
        "Mixing integer indexing with slices yields an array of lower rank,\n",
        "while using only slices yields an array of the same rank as the\n",
        "original array:"
      ]
    },
    {
      "cell_type": "code",
      "execution_count": null,
      "metadata": {
        "id": "KbActk_rv7qn",
        "outputId": "54757b20-e81e-4325-c40c-4ae86f400e76",
        "colab": {
          "base_uri": "https://localhost:8080/"
        }
      },
      "outputs": [
        {
          "output_type": "stream",
          "name": "stdout",
          "text": [
            "[5 6 7 8] shape= (4,)\n",
            "[[5 6 7 8]] shape= (1, 4)\n",
            "[[5 6 7 8]] shape= (1, 4)\n"
          ]
        }
      ],
      "source": [
        "row_r1 = a[1, :]    # Rank 1 view of the second row of a\n",
        "row_r2 = a[1:2, :]  # Rank 2 view of the second row of a\n",
        "row_r3 = a[[1], :]  # Rank 2 view of the second row of a\n",
        "\n",
        "print(row_r1, 'shape=', row_r1.shape)\n",
        "print(row_r2, 'shape=', row_r2.shape)\n",
        "print(row_r3, 'shape=', row_r3.shape)"
      ]
    },
    {
      "cell_type": "code",
      "execution_count": null,
      "metadata": {
        "id": "hoxJH5iYv7qo",
        "outputId": "26fa153f-d353-4756-eb29-ce95910809aa",
        "colab": {
          "base_uri": "https://localhost:8080/"
        }
      },
      "outputs": [
        {
          "output_type": "stream",
          "name": "stdout",
          "text": [
            "[ 2  6 10] (3,)\n",
            "[[ 2]\n",
            " [ 6]\n",
            " [10]] (3, 1)\n"
          ]
        }
      ],
      "source": [
        "# We can make the same distinction when accessing columns of an array:\n",
        "col_r1 = a[:, 1]\n",
        "col_r2 = a[:, 1:2]\n",
        "\n",
        "print(col_r1, col_r1.shape)\n",
        "print(col_r2, col_r2.shape)"
      ]
    },
    {
      "cell_type": "markdown",
      "metadata": {
        "id": "faZVX-i-v7qo"
      },
      "source": [
        "**Integer array indexing**\n",
        "\n",
        "- When you slice, the resulting array view will always be a subarray of the original array.\n",
        "- Integer array indexing allows you to construct arbitrary arrays using the data from another array.\n"
      ]
    },
    {
      "cell_type": "code",
      "execution_count": null,
      "metadata": {
        "id": "5AjgKUrMv7qo",
        "outputId": "72159546-0ade-4ec7-e3fa-c63b6a9166f9",
        "colab": {
          "base_uri": "https://localhost:8080/"
        }
      },
      "outputs": [
        {
          "output_type": "stream",
          "name": "stdout",
          "text": [
            "[[1 2]\n",
            " [3 4]\n",
            " [5 6]]\n"
          ]
        }
      ],
      "source": [
        "a = np.array([[1,2], [3, 4], [5, 6]])\n",
        "print(a)"
      ]
    },
    {
      "cell_type": "code",
      "execution_count": null,
      "metadata": {
        "id": "AKecMZJpv7qp",
        "outputId": "3744f96d-54cf-498d-9ddf-a8ae3123c1f9",
        "colab": {
          "base_uri": "https://localhost:8080/"
        }
      },
      "outputs": [
        {
          "output_type": "stream",
          "name": "stdout",
          "text": [
            "[1 4 5]\n",
            "[1 4 5]\n"
          ]
        }
      ],
      "source": [
        "# An example of integer array indexing.\n",
        "# The returned array will have shape (3,)\n",
        "print(a[[0, 1, 2], [0, 1, 0]])\n",
        "\n",
        "# The above example of integer array indexing is equivalent to this:\n",
        "print(np.array([a[0, 0], a[1, 1], a[2, 0]]))"
      ]
    },
    {
      "cell_type": "code",
      "execution_count": null,
      "metadata": {
        "id": "syYGVsu5v7qq",
        "outputId": "b08b20aa-e1c4-4ad5-c106-9b887131127e",
        "colab": {
          "base_uri": "https://localhost:8080/"
        }
      },
      "outputs": [
        {
          "output_type": "stream",
          "name": "stdout",
          "text": [
            "[2 2]\n",
            "[2 2]\n"
          ]
        }
      ],
      "source": [
        "# When using integer array indexing, you can reuse the same\n",
        "# element from the source array:\n",
        "print(a[[0, 0], [1, 1]])\n",
        "\n",
        "# Equivalent to the previous integer array indexing example\n",
        "print(np.array([a[0, 1], a[0, 1]]))"
      ]
    },
    {
      "cell_type": "markdown",
      "metadata": {
        "id": "olQ4HOeCv7qr"
      },
      "source": [
        "One useful trick with integer array indexing is selecting or mutating one element from each row of a matrix:"
      ]
    },
    {
      "cell_type": "code",
      "execution_count": null,
      "metadata": {
        "id": "7KNXtTiJv7qr",
        "outputId": "795e7053-3d25-4ada-b928-f987e69e6290",
        "colab": {
          "base_uri": "https://localhost:8080/"
        }
      },
      "outputs": [
        {
          "output_type": "execute_result",
          "data": {
            "text/plain": [
              "array([[ 1,  2,  3],\n",
              "       [ 4,  5,  6],\n",
              "       [ 7,  8,  9],\n",
              "       [10, 11, 12]])"
            ]
          },
          "metadata": {},
          "execution_count": 25
        }
      ],
      "source": [
        "# Create a new array from which we will select elements\n",
        "a = np.array([[1,2,3], [4,5,6], [7,8,9], [10, 11, 12]])\n",
        "a"
      ]
    },
    {
      "cell_type": "code",
      "execution_count": null,
      "metadata": {
        "id": "VK-gy69ov7qr",
        "outputId": "2e7aa472-cdb5-435b-ea80-5b72a694fc8a",
        "colab": {
          "base_uri": "https://localhost:8080/"
        }
      },
      "outputs": [
        {
          "output_type": "execute_result",
          "data": {
            "text/plain": [
              "array([ 1,  6,  7, 11])"
            ]
          },
          "metadata": {},
          "execution_count": 26
        }
      ],
      "source": [
        "# Create an array of indices\n",
        "b = np.array([0, 2, 0, 1])\n",
        "\n",
        "# Select one element from each row of a using the indices in b\n",
        "a[np.arange(4), b]"
      ]
    },
    {
      "cell_type": "code",
      "execution_count": null,
      "metadata": {
        "id": "wOR2sxvov7qs",
        "outputId": "8518bab6-a081-445e-a98b-65099427a264",
        "colab": {
          "base_uri": "https://localhost:8080/"
        }
      },
      "outputs": [
        {
          "output_type": "execute_result",
          "data": {
            "text/plain": [
              "array([[1001,    2,    3],\n",
              "       [   4,    5, 1006],\n",
              "       [1007,    8,    9],\n",
              "       [  10, 1011,   12]])"
            ]
          },
          "metadata": {},
          "execution_count": 27
        }
      ],
      "source": [
        "# Mutate one element from each row of a using the indices in b\n",
        "a[np.arange(4), b] += 1000\n",
        "a"
      ]
    },
    {
      "cell_type": "markdown",
      "metadata": {
        "id": "pUprLePxv7qs"
      },
      "source": [
        "**Boolean array indexing**\n",
        "\n",
        "This type of indexing is used to select the elements of an array that satisfy some condition."
      ]
    },
    {
      "cell_type": "code",
      "execution_count": null,
      "metadata": {
        "id": "-TTyXeOov7qs",
        "outputId": "222d9dfe-4203-4197-e6d4-58e62cfead17",
        "colab": {
          "base_uri": "https://localhost:8080/"
        }
      },
      "outputs": [
        {
          "output_type": "stream",
          "name": "stdout",
          "text": [
            "a=\n",
            " array([[1, 2],\n",
            "       [3, 4],\n",
            "       [5, 6]])\n"
          ]
        },
        {
          "output_type": "execute_result",
          "data": {
            "text/plain": [
              "array([[False, False],\n",
              "       [ True,  True],\n",
              "       [ True,  True]])"
            ]
          },
          "metadata": {},
          "execution_count": 28
        }
      ],
      "source": [
        "a = np.array([[1,2], [3, 4], [5, 6]])\n",
        "print('a=\\n', repr(a))\n",
        "bool_idx = (a > 2)  # Find the elements of a that are bigger than 2;\n",
        "                    # this returns a numpy array of Booleans of the same\n",
        "                    # shape as a, where each slot of bool_idx tells\n",
        "                    # whether that element of a is > 2.\n",
        "\n",
        "bool_idx"
      ]
    },
    {
      "cell_type": "code",
      "execution_count": null,
      "metadata": {
        "id": "OygSK_p5v7qt",
        "outputId": "00430293-e1b7-43c0-c1a4-308415e94f4e",
        "colab": {
          "base_uri": "https://localhost:8080/"
        }
      },
      "outputs": [
        {
          "output_type": "execute_result",
          "data": {
            "text/plain": [
              "array([3, 4, 5, 6])"
            ]
          },
          "metadata": {},
          "execution_count": 29
        }
      ],
      "source": [
        "# We use boolean array indexing to construct a rank 1 array\n",
        "# consisting of the elements of a corresponding to the True values\n",
        "# of bool_idx\n",
        "a[a>2]"
      ]
    },
    {
      "cell_type": "markdown",
      "metadata": {
        "id": "jKAEE4JMv7qt"
      },
      "source": [
        "For brevity we have left out a lot of details about numpy array indexing; if you want to know more you should read the [documentation](https://docs.scipy.org/doc/numpy/reference/arrays.indexing.html)."
      ]
    },
    {
      "cell_type": "markdown",
      "metadata": {
        "id": "RCgw5Z1mv7qu"
      },
      "source": [
        "## 1.3 Datatypes"
      ]
    },
    {
      "cell_type": "markdown",
      "metadata": {
        "id": "e7MSrhF5v7qu"
      },
      "source": [
        "Every numpy array is a grid of elements of the same type. Numpy provides a large set of numeric datatypes that you can use to construct arrays. Numpy tries to guess a datatype when you create an array, but functions that construct arrays usually also include an optional argument to explicitly specify the datatype. Here is an example:"
      ]
    },
    {
      "cell_type": "code",
      "execution_count": null,
      "metadata": {
        "id": "3ia-2Qzuv7qu",
        "outputId": "70e14a93-d86e-4cac-8fc4-0f0499158d98",
        "colab": {
          "base_uri": "https://localhost:8080/"
        }
      },
      "outputs": [
        {
          "output_type": "execute_result",
          "data": {
            "text/plain": [
              "(dtype('int64'), dtype('float64'), dtype('int64'))"
            ]
          },
          "metadata": {},
          "execution_count": 30
        }
      ],
      "source": [
        "x = np.array([1, 2])  # Let numpy choose the datatype\n",
        "y = np.array([1.0, 2.0])  # Let numpy choose the datatype\n",
        "z = np.array([1, 2], dtype=np.int64)  # Force a particular datatype\n",
        "\n",
        "x.dtype, y.dtype, z.dtype"
      ]
    },
    {
      "cell_type": "markdown",
      "metadata": {
        "id": "Bt0JCCLrv7q3"
      },
      "source": [
        "## 1.4 Array math"
      ]
    },
    {
      "cell_type": "markdown",
      "metadata": {
        "id": "G1UG1hADv7q4"
      },
      "source": [
        "### 1.4.1 Elementwise operations\n",
        "Basic mathematical functions **operate elementwise** on arrays, and are available both as operator overloads and as functions in the numpy module:"
      ]
    },
    {
      "cell_type": "code",
      "execution_count": null,
      "metadata": {
        "id": "ZEy4bN_Cv7q4",
        "outputId": "29b85dba-ffa9-40be-fd53-f7b80e657d99",
        "colab": {
          "base_uri": "https://localhost:8080/"
        }
      },
      "outputs": [
        {
          "output_type": "stream",
          "name": "stdout",
          "text": [
            "[[ 6.  8.]\n",
            " [10. 12.]]\n",
            "[[ 6.  8.]\n",
            " [10. 12.]]\n"
          ]
        }
      ],
      "source": [
        "x = np.array([[1,2],[3,4]], dtype=np.float64)\n",
        "y = np.array([[5,6],[7,8]], dtype=np.float64)\n",
        "\n",
        "# Elementwise sum\n",
        "print(x + y)\n",
        "print(np.add(x, y))"
      ]
    },
    {
      "cell_type": "code",
      "execution_count": null,
      "metadata": {
        "id": "EjKc_f66v7q4",
        "outputId": "b5c6bb7e-1d60-422f-d86e-c6311aa0a549",
        "colab": {
          "base_uri": "https://localhost:8080/"
        }
      },
      "outputs": [
        {
          "output_type": "stream",
          "name": "stdout",
          "text": [
            "[[-4. -4.]\n",
            " [-4. -4.]]\n",
            "[[-4. -4.]\n",
            " [-4. -4.]]\n"
          ]
        }
      ],
      "source": [
        "# Elementwise difference\n",
        "print(x - y)\n",
        "print(np.subtract(x, y))"
      ]
    },
    {
      "cell_type": "code",
      "execution_count": null,
      "metadata": {
        "id": "oV9C09Htv7q4",
        "outputId": "a3469a50-2488-49c7-c0df-354182e97e2f",
        "colab": {
          "base_uri": "https://localhost:8080/"
        }
      },
      "outputs": [
        {
          "output_type": "stream",
          "name": "stdout",
          "text": [
            "[[ 5. 12.]\n",
            " [21. 32.]]\n",
            "[[ 5. 12.]\n",
            " [21. 32.]]\n"
          ]
        }
      ],
      "source": [
        "# Elementwise product\n",
        "print(x * y)\n",
        "print(np.multiply(x, y))"
      ]
    },
    {
      "cell_type": "code",
      "execution_count": null,
      "metadata": {
        "id": "aQkYdoErv7q5",
        "outputId": "938abfc1-5297-4c2c-d9fb-6a2df13fd984",
        "colab": {
          "base_uri": "https://localhost:8080/"
        }
      },
      "outputs": [
        {
          "output_type": "stream",
          "name": "stdout",
          "text": [
            "[[0.2        0.33333333]\n",
            " [0.42857143 0.5       ]]\n",
            "[[0.2        0.33333333]\n",
            " [0.42857143 0.5       ]]\n"
          ]
        }
      ],
      "source": [
        "# Elementwise division\n",
        "print(x / y)\n",
        "print(np.divide(x, y))"
      ]
    },
    {
      "cell_type": "code",
      "execution_count": null,
      "metadata": {
        "id": "tYqaNQMKv7q5",
        "outputId": "bf7ad27b-0560-42ef-a048-85a7380ec913",
        "colab": {
          "base_uri": "https://localhost:8080/"
        }
      },
      "outputs": [
        {
          "output_type": "stream",
          "name": "stdout",
          "text": [
            "[[1.         1.41421356]\n",
            " [1.73205081 2.        ]]\n"
          ]
        }
      ],
      "source": [
        "# Elementwise square root\n",
        "print(np.sqrt(x))"
      ]
    },
    {
      "cell_type": "markdown",
      "metadata": {
        "id": "osYb9TC3v7q5"
      },
      "source": [
        "There are of course many more elementwise operations inmplemented by `numpy`."
      ]
    },
    {
      "cell_type": "markdown",
      "metadata": {
        "id": "GIxPNkyuv7q6"
      },
      "source": [
        "### 1.4.2 Inner (scalar) product\n",
        "\n",
        "`*` is elementwise multiplication, not matrix multiplication (as we say above).\n",
        "\n",
        "We instead use the `dot()` function to:\n",
        "- compute inner products of vectors,\n",
        "- multiply a vector by a matrix, and to\n",
        "- multiply matrices.\n",
        "\n",
        "The `dot()` function is available both as a function in the numpy module and as an instance\n",
        "method of array objects.\n",
        "\n",
        "$a \\cdot b = a_0 \\times b_0 + a_1 \\times b_1 + \\dots$"
      ]
    },
    {
      "cell_type": "code",
      "execution_count": null,
      "metadata": {
        "id": "fbVgxsJ2v7q6",
        "outputId": "27703b34-5be9-46c4-def5-05a069fc7d08",
        "colab": {
          "base_uri": "https://localhost:8080/"
        }
      },
      "outputs": [
        {
          "output_type": "stream",
          "name": "stdout",
          "text": [
            "219\n",
            "219\n",
            "219\n"
          ]
        }
      ],
      "source": [
        "v = np.array([9,10])\n",
        "w = np.array([11, 12])\n",
        "\n",
        "# Inner product of vectors; both produce 219\n",
        "print(v.dot(w))\n",
        "print(np.dot(v, w))\n",
        "print(v @ w)"
      ]
    },
    {
      "cell_type": "code",
      "execution_count": null,
      "metadata": {
        "id": "vYfcACQ_v7q6",
        "outputId": "a1934ea3-c3cc-4df3-a93f-80dad58070f7",
        "colab": {
          "base_uri": "https://localhost:8080/"
        }
      },
      "outputs": [
        {
          "output_type": "stream",
          "name": "stdout",
          "text": [
            "x=\n",
            " array([[1, 2],\n",
            "       [3, 4]])\n",
            "x dot v= [29 67]\n"
          ]
        }
      ],
      "source": [
        "x = np.array([[1,2],[3,4]])\n",
        "print('x=\\n', repr(x))\n",
        "\n",
        "# Matrix-vector product; produce a rank 1 array\n",
        "print('x dot v=', x.dot(v))"
      ]
    },
    {
      "cell_type": "code",
      "execution_count": null,
      "metadata": {
        "id": "t1lUph1ev7q6",
        "outputId": "964a2f07-33f1-4e03-a158-082244066eef",
        "colab": {
          "base_uri": "https://localhost:8080/"
        }
      },
      "outputs": [
        {
          "output_type": "stream",
          "name": "stdout",
          "text": [
            "y=\n",
            " array([[5, 6],\n",
            "       [7, 8]])\n",
            "x dot y =\n",
            " [[19 22]\n",
            " [43 50]]\n"
          ]
        }
      ],
      "source": [
        "# Matrix-matrix product; produces a rank 2 array\n",
        "y = np.array([[5,6],[7,8]])\n",
        "print('y=\\n', repr(y))\n",
        "\n",
        "print('x dot y =\\n', x.dot(y))"
      ]
    },
    {
      "cell_type": "markdown",
      "metadata": {
        "id": "kerrqogNv7q7"
      },
      "source": [
        "Numpy provides many useful functions for performing computations on arrays; one of the most useful is `sum`:"
      ]
    },
    {
      "cell_type": "code",
      "execution_count": null,
      "metadata": {
        "id": "fNpCaDjtv7q7",
        "outputId": "1b95bc88-e549-48f5-feb5-c8b2f62a2f2a",
        "colab": {
          "base_uri": "https://localhost:8080/"
        }
      },
      "outputs": [
        {
          "output_type": "stream",
          "name": "stdout",
          "text": [
            "10\n",
            "[4 6]\n",
            "[3 7]\n"
          ]
        }
      ],
      "source": [
        "x = np.array([[1,2],[3,4]])\n",
        "\n",
        "print(np.sum(x))  # Compute sum of all elements\n",
        "print(np.sum(x, axis=0))  # Compute sum of each column\n",
        "print(np.sum(x, axis=1) ) # Compute sum of each row"
      ]
    },
    {
      "cell_type": "markdown",
      "metadata": {
        "id": "nBHuIxwnv7q7"
      },
      "source": [
        "Apart from computing mathematical functions using arrays, we frequently need to **reshape** or otherwise manipulate data in arrays."
      ]
    },
    {
      "cell_type": "code",
      "execution_count": null,
      "metadata": {
        "id": "g5QKXdtjv7q7",
        "outputId": "2eca22c6-6f74-4ff4-8a88-9a06049ac3c1",
        "colab": {
          "base_uri": "https://localhost:8080/"
        }
      },
      "outputs": [
        {
          "output_type": "stream",
          "name": "stdout",
          "text": [
            "[[1 2]\n",
            " [3 4]]\n",
            "[[1 3]\n",
            " [2 4]]\n",
            "[[1 3]\n",
            " [2 4]]\n"
          ]
        }
      ],
      "source": [
        "# Transpose\n",
        "print(x)\n",
        "print(x.T)\n",
        "print(np.transpose(x))"
      ]
    },
    {
      "cell_type": "code",
      "execution_count": null,
      "metadata": {
        "id": "VMFdMbPEv7q8",
        "outputId": "2c23d484-5ed8-4fa5-afd1-1b77dec79745",
        "colab": {
          "base_uri": "https://localhost:8080/"
        }
      },
      "outputs": [
        {
          "output_type": "stream",
          "name": "stdout",
          "text": [
            "[[1 2 3]]\n",
            "[[1]\n",
            " [2]\n",
            " [3]]\n"
          ]
        }
      ],
      "source": [
        "v = np.array([1,2,3]) # rank 1\n",
        "print(v.reshape(1, -1)) # row vector\n",
        "print(v.reshape(-1, 1)) # column vector"
      ]
    },
    {
      "cell_type": "markdown",
      "metadata": {
        "id": "NlE4k0kJv7q8"
      },
      "source": [
        "## 1.5 Broadcasting"
      ]
    },
    {
      "cell_type": "markdown",
      "metadata": {
        "id": "tyC8gABmv7q8"
      },
      "source": [
        "Broadcasting is a powerful mechanism that allows numpy to work with arrays of **different shapes** when performing arithmetic operations.\n",
        "\n",
        "Frequently we have a smaller array and a larger array, and we want to use the smaller array multiple times to perform some operation on the larger array.\n",
        "\n",
        "For example, suppose that we want to add a constant vector to each row of a matrix. We could do it like this:"
      ]
    },
    {
      "cell_type": "code",
      "execution_count": null,
      "metadata": {
        "id": "b8DQA22Ev7q8",
        "outputId": "545f020d-1b87-41c5-9dfb-f4fa7a0dab49",
        "colab": {
          "base_uri": "https://localhost:8080/"
        }
      },
      "outputs": [
        {
          "output_type": "stream",
          "name": "stdout",
          "text": [
            "x= [[ 1  2  3]\n",
            " [ 4  5  6]\n",
            " [ 7  8  9]\n",
            " [10 11 12]]\n",
            "v= [1 0 1]\n"
          ]
        }
      ],
      "source": [
        "# We will add the vector v to each row of the matrix x,\n",
        "# storing the result in the matrix y\n",
        "x = np.array([[1,2,3], [4,5,6], [7,8,9], [10, 11, 12]])\n",
        "v = np.array([1, 0, 1])\n",
        "y = np.empty_like(x)   # Create an empty matrix with the same shape as x\n",
        "\n",
        "print('x=', x)\n",
        "print('v=', v)"
      ]
    },
    {
      "cell_type": "code",
      "execution_count": null,
      "metadata": {
        "id": "mGVNuj9Dv7q9",
        "outputId": "a47d3c64-d948-4d91-ed2d-623bcfe809cb",
        "colab": {
          "base_uri": "https://localhost:8080/"
        }
      },
      "outputs": [
        {
          "output_type": "execute_result",
          "data": {
            "text/plain": [
              "array([[ 2,  2,  4],\n",
              "       [ 5,  5,  7],\n",
              "       [ 8,  8, 10],\n",
              "       [11, 11, 13]])"
            ]
          },
          "metadata": {},
          "execution_count": 43
        }
      ],
      "source": [
        "# Add the vector v to each row of the matrix x with an explicit loop\n",
        "for i in range(4):\n",
        "    y[i, :] = x[i, :] + v\n",
        "\n",
        "y"
      ]
    },
    {
      "cell_type": "markdown",
      "metadata": {
        "id": "OwT96HFPv7q9"
      },
      "source": [
        "This works; however when the matrix `x` is very large, computing an explicit loop in Python could be slow. Note that adding the vector v to each row of the matrix `x` is equivalent to forming a matrix `vv` by stacking multiple copies of `v` vertically, then performing elementwise summation of `x` and `vv`. We could implement this approach like this:"
      ]
    },
    {
      "cell_type": "code",
      "execution_count": null,
      "metadata": {
        "id": "gKJKgBcdv7q9",
        "outputId": "8dd17df9-3b30-4ba1-ef63-5031c04bec83",
        "colab": {
          "base_uri": "https://localhost:8080/"
        }
      },
      "outputs": [
        {
          "output_type": "execute_result",
          "data": {
            "text/plain": [
              "array([[1, 0, 1],\n",
              "       [1, 0, 1],\n",
              "       [1, 0, 1],\n",
              "       [1, 0, 1]])"
            ]
          },
          "metadata": {},
          "execution_count": 44
        }
      ],
      "source": [
        "vv = np.tile(v, (4, 1))  # Stack 4 copies of v on top of each other\n",
        "vv"
      ]
    },
    {
      "cell_type": "code",
      "execution_count": null,
      "metadata": {
        "id": "9IHyeONhv7q9",
        "outputId": "f6d29751-8cd3-42be-f24a-af27c4b5d203",
        "colab": {
          "base_uri": "https://localhost:8080/"
        }
      },
      "outputs": [
        {
          "output_type": "execute_result",
          "data": {
            "text/plain": [
              "array([[ 2,  2,  4],\n",
              "       [ 5,  5,  7],\n",
              "       [ 8,  8, 10],\n",
              "       [11, 11, 13]])"
            ]
          },
          "metadata": {},
          "execution_count": 45
        }
      ],
      "source": [
        "y = x + vv  # Add x and vv elementwise\n",
        "y"
      ]
    },
    {
      "cell_type": "markdown",
      "metadata": {
        "id": "f_zp0zx7v7q-"
      },
      "source": [
        "Numpy broadcasting allows us to perform this computation without actually creating multiple copies of v. Consider this version, using broadcasting:"
      ]
    },
    {
      "cell_type": "code",
      "execution_count": null,
      "metadata": {
        "id": "yP9MvsYAv7q-",
        "outputId": "30b337f5-a6f8-45df-bd75-ce905201be6d",
        "colab": {
          "base_uri": "https://localhost:8080/"
        }
      },
      "outputs": [
        {
          "output_type": "stream",
          "name": "stdout",
          "text": [
            "shapes:  (4, 3) (3,)\n"
          ]
        },
        {
          "output_type": "execute_result",
          "data": {
            "text/plain": [
              "array([[ 2,  2,  4],\n",
              "       [ 5,  5,  7],\n",
              "       [ 8,  8, 10],\n",
              "       [11, 11, 13]])"
            ]
          },
          "metadata": {},
          "execution_count": 46
        }
      ],
      "source": [
        "# We will add the vector v to each row of the matrix x,\n",
        "# storing the result in the matrix y\n",
        "\n",
        "x = np.array([[1,2,3], [4,5,6], [7,8,9], [10, 11, 12]])\n",
        "v = np.array([1, 0, 1])\n",
        "y = x + v  # Add v to each row of x using broadcasting\n",
        "\n",
        "print('shapes: ', x.shape, v.shape)\n",
        "y"
      ]
    },
    {
      "cell_type": "markdown",
      "metadata": {
        "id": "CnMHINrhv7q-"
      },
      "source": [
        "The line `y = x + v` works even though `x` has shape `(4, 3)` and `v` has shape `(3,)` due to broadcasting; this line works as if v actually had shape `(4, 3)`, where each row was a copy of `v`, and the sum was performed elementwise.\n",
        "\n",
        "Broadcasting two arrays together follows these rules:\n",
        "\n",
        "1. All input arrays with ndim smaller than the input array of largest ndim, have 1’s prepended to their shapes.\n",
        "1. The size in each dimension of the output shape is the maximum of all the input sizes in that dimension.\n",
        "1. An input can be used in the calculation if its size in a particular dimension either matches the output size in that dimension, or has value exactly 1.\n",
        "1. If an input has a dimension size of 1 in its shape, the first data entry in that dimension will be used for all calculations along that dimension. In other words, the stepping machinery of the ufunc will simply not step along that dimension (the stride will be 0 for that dimension).\n",
        "\n",
        "\n",
        "Here are some applications of broadcasting:"
      ]
    },
    {
      "cell_type": "code",
      "execution_count": null,
      "metadata": {
        "id": "-NIT8tCgv7q-",
        "outputId": "dff3a6f7-4f9b-44f3-9343-fad05ab3cba0",
        "colab": {
          "base_uri": "https://localhost:8080/"
        }
      },
      "outputs": [
        {
          "output_type": "execute_result",
          "data": {
            "text/plain": [
              "array([[ 4,  5],\n",
              "       [ 8, 10],\n",
              "       [12, 15]])"
            ]
          },
          "metadata": {},
          "execution_count": 47
        }
      ],
      "source": [
        "# Compute outer product of vectors\n",
        "v = np.array([1,2,3])  # v has shape (3,)\n",
        "w = np.array([4,5])    # w has shape (2,)\n",
        "\n",
        "# To compute an outer product, we first reshape v to be a column\n",
        "# vector of shape (3, 1); we can then broadcast it against w to yield\n",
        "# an output of shape (3, 2), which is the outer product of v and w:\n",
        "np.reshape(v, (3, 1)) * w"
      ]
    },
    {
      "cell_type": "code",
      "execution_count": null,
      "metadata": {
        "id": "DupU6nhLv7q_",
        "outputId": "3afef7f3-0edf-4a39-80e6-2c1c27b7b142",
        "colab": {
          "base_uri": "https://localhost:8080/"
        }
      },
      "outputs": [
        {
          "output_type": "execute_result",
          "data": {
            "text/plain": [
              "array([[ 2,  4,  6],\n",
              "       [ 8, 10, 12],\n",
              "       [14, 16, 18],\n",
              "       [20, 22, 24]])"
            ]
          },
          "metadata": {},
          "execution_count": 48
        }
      ],
      "source": [
        "# Multiply a matrix by a constant:\n",
        "# x has shape (2, 3). Numpy treats scalars as arrays of shape ();\n",
        "# these can be broadcast together to shape (2, 3), producing the\n",
        "# following array:\n",
        "x * 2"
      ]
    },
    {
      "cell_type": "markdown",
      "metadata": {
        "id": "H3XaKUWsv7q_"
      },
      "source": [
        "Broadcasting typically makes your code more concise and faster, so you should strive to use it where possible."
      ]
    }
  ]
}